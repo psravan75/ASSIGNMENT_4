{
  "cells": [
    {
      "cell_type": "markdown",
      "source": [
        "*1. What are the five key concepts of Object-Oriented Programming (OOP)?*\n",
        "\n",
        "The five key concepts of OOP are:\n",
        "   - *Encapsulation*: Bundling data (attributes) and methods that operate on that data into a single unit or class.\n",
        "   - *Abstraction*: Hiding complex implementation details and showing only the necessary features.\n",
        "   - *Inheritance*: A class can inherit methods and properties from another class.\n",
        "   - *Polymorphism*: Objects of different classes can be treated as objects of a common superclass.\n",
        "   - *Classes and Objects*: Classes are blueprints for creating objects (instances of classes).\n",
        "\n"
      ],
      "metadata": {
        "id": "9PfTlrOwnvQd"
      }
    },
    {
      "cell_type": "code",
      "source": [],
      "metadata": {
        "id": "2KpDJBORnwOy"
      },
      "execution_count": null,
      "outputs": []
    },
    {
      "cell_type": "code",
      "source": [],
      "metadata": {
        "id": "uiykbemGn_sm"
      },
      "execution_count": null,
      "outputs": []
    },
    {
      "cell_type": "markdown",
      "source": [
        "*2. Write a Python class for a Car with attributes for make, model, and year. Include a method to display the car's information.**\n",
        "\n",
        "python\n",
        "class Car:\n",
        "    def __init__(self, make, model, year):\n",
        "        self.make = make\n",
        "        self.model = model\n",
        "        self.year = year\n",
        "\n",
        "    def display_info(self):\n",
        "        print(f\"Car: {self.year} {self.make} {self.model}\")\n",
        "\n",
        "# Example\n",
        "my_car = Car('Toyota', 'Corolla', 2020)\n",
        "my_car.display_info()\n"
      ],
      "metadata": {
        "id": "mMgSeUtPoKCo"
      }
    },
    {
      "cell_type": "markdown",
      "source": [
        "*3. Explain the difference between instance methods and class methods. Provide an example of each.*\n",
        "\n",
        "- *Instance methods*: These methods operate on the instance of the class (the object) and can access instance attributes. They take self as the first argument.\n",
        "- *Class methods*: These methods operate on the class itself and are bound to the class, not the instance. They take cls as the first argument and are decorated with @classmethod.\n",
        "\n",
        "Example:\n",
        "\n",
        "python\n",
        "class Example:\n",
        "    def __init__(self, name):\n",
        "        self.name = name\n",
        "\n",
        "    def instance_method(self):\n",
        "        return f\"This is an instance method called by {self.name}\"\n",
        "\n",
        "    @classmethod\n",
        "    def class_method(cls):\n",
        "        return \"This is a class method\"\n",
        "\n",
        "# Example\n",
        "obj = Example(\"Object1\")\n",
        "print(obj.instance_method())  # Instance method\n",
        "print(Example.class_method())  # Class method\n"
      ],
      "metadata": {
        "id": "keJeeDeKoGfL"
      }
    },
    {
      "cell_type": "code",
      "source": [],
      "metadata": {
        "id": "T-t8aINxoHS1"
      },
      "execution_count": null,
      "outputs": []
    },
    {
      "cell_type": "markdown",
      "source": [
        "4. How does Python implement method overloading? Give an example.*\n",
        "\n",
        "Python does not support traditional method overloading (multiple methods with the same name but different parameters) like other languages. However, we can achieve similar behavior using default arguments or handling different types of arguments within a single method.\n",
        "\n",
        "Example:\n",
        "\n",
        "python\n",
        "class OverloadExample:\n",
        "    def method(self, a=None, b=None):\n",
        "        if a and b:\n",
        "            print(f\"Method called with two arguments: {a}, {b}\")\n",
        "        elif a:\n",
        "            print(f\"Method called with one argument: {a}\")\n",
        "        else:\n",
        "            print(\"Method called with no arguments\")\n",
        "\n",
        "obj = OverloadExample()\n",
        "obj.method()\n",
        "obj.method(10)\n",
        "obj.method(10, 20)\n"
      ],
      "metadata": {
        "id": "wqHKiYwBoVgB"
      }
    },
    {
      "cell_type": "code",
      "source": [],
      "metadata": {
        "id": "uFut4szxoWRg"
      },
      "execution_count": null,
      "outputs": []
    },
    {
      "cell_type": "markdown",
      "source": [
        "5. What are the three types of access modifiers in Python? How are they denoted?*\n",
        "\n",
        "In Python, access modifiers are not enforced as strictly as in other languages, but the following conventions are used:\n",
        "   - *Public*: Accessible anywhere. No underscore prefix. Example: var.\n",
        "   - *Protected*: Intended to be used within the class and its subclasses. Denoted by a single underscore (_var).\n",
        "   - *Private*: Restricted to the class where it is defined. Denoted by a double underscore (__var).\n"
      ],
      "metadata": {
        "id": "ugOBC2ZNocyr"
      }
    },
    {
      "cell_type": "code",
      "source": [],
      "metadata": {
        "id": "vhtmmqg0odaR"
      },
      "execution_count": null,
      "outputs": []
    },
    {
      "cell_type": "markdown",
      "source": [
        "6. Describe the five types of inheritance in Python. Provide a simple example of multiple inheritance.*\n",
        "\n",
        "The five types of inheritance are:\n",
        "   1. *Single Inheritance*: A class inherits from one parent class.\n",
        "   2. *Multiple Inheritance*: A class inherits from more than one parent class.\n",
        "   3. *Multilevel Inheritance*: A class inherits from a class, which in turn inherits from another class.\n",
        "   4. *Hierarchical Inheritance*: Multiple classes inherit from the same parent class.\n",
        "   5. *Hybrid Inheritance*: A combination of two or more types of inheritance.\n",
        "\n",
        "Example of multiple inheritance:\n",
        "\n",
        "python\n",
        "class A:\n",
        "    def method_a(self):\n",
        "        print(\"Method in class A\")\n",
        "\n",
        "class B:\n",
        "    def method_b(self):\n",
        "        print(\"Method in class B\")\n",
        "\n",
        "class C(A, B):\n",
        "    pass\n",
        "\n",
        "obj = C()\n",
        "obj.method_a()\n",
        "obj.method_b()\n"
      ],
      "metadata": {
        "id": "dCI5IL6Iofry"
      }
    },
    {
      "cell_type": "code",
      "source": [],
      "metadata": {
        "id": "_U_Cfq5SogYG"
      },
      "execution_count": null,
      "outputs": []
    },
    {
      "cell_type": "markdown",
      "source": [
        "7. What is the Method Resolution Order (MRO) in Python? How can you retrieve it programmatically?*\n",
        "\n",
        "MRO is the order in which Python looks for a method in a hierarchy of classes. It is determined by the C3 linearization algorithm. You can retrieve the MRO using the __mro__ attribute or the mro() method.\n",
        "\n",
        "Example:\n",
        "\n",
        "python\n",
        "class A:\n",
        "    pass\n",
        "\n",
        "class B(A):\n",
        "    pass\n",
        "\n",
        "class C(B):\n",
        "    pass\n",
        "\n",
        "print(C.__mro__)  # Output the MRO of class C\n",
        "\n"
      ],
      "metadata": {
        "id": "9t4xmT9_oi9b"
      }
    },
    {
      "cell_type": "code",
      "source": [],
      "metadata": {
        "id": "Sqje6LeAojfm"
      },
      "execution_count": null,
      "outputs": []
    },
    {
      "cell_type": "markdown",
      "source": [
        "8. Create an abstract base class Shape with an abstract method area(). Then create two subclasses Circle and Rectangle that implement the area() method.**\n",
        "\n",
        "python\n",
        "from abc import ABC, abstractmethod\n",
        "\n",
        "class Shape(ABC):\n",
        "    @abstractmethod\n",
        "    def area(self):\n",
        "        pass\n",
        "\n",
        "class Circle(Shape):\n",
        "    def __init__(self, radius):\n",
        "        self.radius = radius\n",
        "\n",
        "    def area(self):\n",
        "        return 3.14 * self.radius ** 2\n",
        "\n",
        "class Rectangle(Shape):\n",
        "    def __init__(self, length, width):\n",
        "        self.length = length\n",
        "        self.width = width\n",
        "\n",
        "    def area(self):\n",
        "        return self.length * self.width\n",
        "\n"
      ],
      "metadata": {
        "id": "p7AR3heEolaE"
      }
    },
    {
      "cell_type": "code",
      "source": [],
      "metadata": {
        "id": "ZGWelGJAol-T"
      },
      "execution_count": null,
      "outputs": []
    },
    {
      "cell_type": "markdown",
      "source": [
        "9. Demonstrate polymorphism by creating a function that can work with different shape objects to calculate and print their areas.*\n",
        "\n",
        "python\n",
        "def print_area(shape):\n",
        "    print(f\"The area is: {shape.area()}\")\n",
        "\n",
        "circle = Circle(5)\n",
        "rectangle = Rectangle(10, 20)\n",
        "\n",
        "print_area(circle)\n",
        "print_area(rectangle)\n",
        "\n"
      ],
      "metadata": {
        "id": "YEpTH85won3j"
      }
    },
    {
      "cell_type": "code",
      "source": [
        ""
      ],
      "metadata": {
        "id": "kHws6JIYoobv"
      },
      "execution_count": null,
      "outputs": []
    },
    {
      "cell_type": "markdown",
      "source": [
        "10. Implement encapsulation in a BankAccount class with private attributes for balance and account_number. Include methods for deposit, withdrawal, and balance inquiry.**\n",
        "\n",
        "python\n",
        "class BankAccount:\n",
        "    def __init__(self, account_number, balance=0):\n",
        "        self.__account_number = account_number\n",
        "        self.__balance = balance\n",
        "\n",
        "    def deposit(self, amount):\n",
        "        self.__balance += amount\n",
        "\n",
        "    def withdraw(self, amount):\n",
        "        if amount <= self.__balance:\n",
        "            self.__balance -= amount\n",
        "        else:\n",
        "            print(\"Insufficient balance\")\n",
        "\n",
        "    def check_balance(self):\n",
        "        return self.__balance\n",
        "\n"
      ],
      "metadata": {
        "id": "4SwO5AQuoq51"
      }
    },
    {
      "cell_type": "code",
      "source": [],
      "metadata": {
        "id": "ej6aBliUorfY"
      },
      "execution_count": null,
      "outputs": []
    },
    {
      "cell_type": "markdown",
      "source": [
        "11. Write a class that overrides the __str__ and __add__ magic methods. What will these methods allow you to do?**\n",
        "\n",
        "The __str__ method allows an object to return a string representation when print() is called. The __add__ method allows for the use of the + operator with objects.\n",
        "\n",
        "Example:\n",
        "\n",
        "python\n",
        "class Book:\n",
        "    def __init__(self, title, pages):\n",
        "        self.title = title\n",
        "        self.pages = pages\n",
        "\n",
        "    def __str__(self):\n",
        "        return f\"Book: {self.title}, Pages: {self.pages}\"\n",
        "\n",
        "    def __add__(self, other):\n",
        "        return self.pages + other.pages\n",
        "\n",
        "book1 = Book(\"Book One\", 200)\n",
        "book2 = Book(\"Book Two\", 300)\n",
        "\n",
        "print(book1)  # __str__ method\n",
        "print(book1 + book2)  # __add__ method\n"
      ],
      "metadata": {
        "id": "YSngugYTo6GO"
      }
    },
    {
      "cell_type": "code",
      "source": [],
      "metadata": {
        "id": "d1PMcK-Io6uN"
      },
      "execution_count": null,
      "outputs": []
    },
    {
      "cell_type": "markdown",
      "source": [
        "12. Create a decorator that measures and prints the execution time of a function.*\n",
        "\n",
        "python\n",
        "import time\n",
        "\n",
        "def execution_time(func):\n",
        "    def wrapper(*args, **kwargs):\n",
        "        start_time = time.time()\n",
        "        result = func(*args, **kwargs)\n",
        "        end_time = time.time()\n",
        "        print(f\"Execution time: {end_time - start_time} seconds\")\n",
        "        return result\n",
        "    return wrapper\n",
        "\n",
        "@execution_time\n",
        "def example_function():\n",
        "    time.sleep(2)\n",
        "\n",
        "example_function()\n"
      ],
      "metadata": {
        "id": "SNlflZgpo9mN"
      }
    },
    {
      "cell_type": "code",
      "source": [],
      "metadata": {
        "id": "LJmLgZCno-DK"
      },
      "execution_count": null,
      "outputs": []
    },
    {
      "cell_type": "markdown",
      "source": [
        "13. Explain the concept of the Diamond Problem in multiple inheritance. How does Python resolve it?*\n",
        "\n",
        "The *Diamond Problem* arises in multiple inheritance when a class inherits from two classes that have a common base class, leading to ambiguity about which class’s method should be called. Python resolves this using the *Method Resolution Order (MRO)*, which determines the order in which classes are searched for a method.\n",
        "\n"
      ],
      "metadata": {
        "id": "If09iYz7pAnX"
      }
    },
    {
      "cell_type": "code",
      "source": [],
      "metadata": {
        "id": "lxHT1bkxpBI7"
      },
      "execution_count": null,
      "outputs": []
    },
    {
      "cell_type": "markdown",
      "source": [
        "14. Write a class method that keeps track of the number of instances created from a class.*\n",
        "\n",
        "python\n",
        "class InstanceCounter:\n",
        "    instance_count = 0\n",
        "\n",
        "    def __init__(self):\n",
        "        InstanceCounter.instance_count += 1\n",
        "\n",
        "    @classmethod\n",
        "    def get_instance_count(cls):\n",
        "        return cls.instance_count\n",
        "\n",
        "# Example\n",
        "obj1 = InstanceCounter()\n",
        "obj2 = InstanceCounter()\n",
        "\n",
        "print(InstanceCounter.get_instance_count())  # Output: 2\n"
      ],
      "metadata": {
        "id": "HpGvoe8_pEtg"
      }
    },
    {
      "cell_type": "code",
      "source": [],
      "metadata": {
        "id": "Vvs0H-s4pFTf"
      },
      "execution_count": null,
      "outputs": []
    },
    {
      "cell_type": "markdown",
      "source": [
        " Implement a static method in a class that checks if a given year is a leap year.*\n",
        "\n",
        "python\n",
        "class Year:\n",
        "    @staticmethod\n",
        "    def is_leap_year(year):\n",
        "        if (year % 4 == 0 and year % 100 != 0) or (year % 400 == 0):\n",
        "            return True\n",
        "        return False\n",
        "\n",
        "# Example\n",
        "print(Year.is_leap_year(2024))  # True\n"
      ],
      "metadata": {
        "id": "5Xqmr6KppLkJ"
      }
    },
    {
      "cell_type": "code",
      "source": [],
      "metadata": {
        "id": "FGQTxv0NpMMD"
      },
      "execution_count": null,
      "outputs": []
    }
  ],
  "metadata": {
    "colab": {
      "name": "Welcome to Colaboratory",
      "toc_visible": true,
      "provenance": []
    },
    "kernelspec": {
      "display_name": "Python 3",
      "name": "python3"
    }
  },
  "nbformat": 4,
  "nbformat_minor": 0
}